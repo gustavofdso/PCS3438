{
 "cells": [
  {
   "cell_type": "code",
   "execution_count": 26,
   "metadata": {},
   "outputs": [],
   "source": [
    "import pandas as pd\n",
    "import numpy as np"
   ]
  },
  {
   "cell_type": "code",
   "execution_count": 27,
   "metadata": {},
   "outputs": [
    {
     "name": "stdout",
     "output_type": "stream",
     "text": [
      "Acurácia na base de treino: 0.76\n",
      "Acurácia na base de validação: 0.6276923076923077\n"
     ]
    }
   ],
   "source": [
    "# Questão 1\n",
    "df = pd.read_csv(\"class01.csv\")\n",
    "\n",
    "x = df.drop('target', axis = 1).to_numpy()\n",
    "y = df['target'].to_numpy()\n",
    "\n",
    "from sklearn.naive_bayes import GaussianNB\n",
    "nb = GaussianNB()\n",
    "\n",
    "from sklearn.model_selection import train_test_split\n",
    "x_train, x_test, y_train, y_test = train_test_split(x, y, train_size = 350, shuffle = False)\n",
    "\n",
    "nb.fit(x_train, y_train)\n",
    "\n",
    "acuracia_treino = nb.score(x_train, y_train)\n",
    "acuracia_validacao = nb.score(x_test, y_test)\n",
    "\n",
    "print('Acurácia na base de treino:', acuracia_treino)\n",
    "print('Acurácia na base de validação:', acuracia_validacao)"
   ]
  },
  {
   "cell_type": "code",
   "execution_count": 28,
   "metadata": {},
   "outputs": [
    {
     "name": "stdout",
     "output_type": "stream",
     "text": [
      "Acurácia na base de treino: 0.8661666666666668\n",
      "Acurácia na base de validação: 0.8386666666666667\n"
     ]
    }
   ],
   "source": [
    "# Questão 2\n",
    "df = pd.read_csv(\"class02.csv\")\n",
    "\n",
    "x = df.drop('target', axis = 1).to_numpy()\n",
    "y = df['target'].to_numpy()\n",
    "\n",
    "from sklearn.model_selection import KFold\n",
    "kf = KFold(5)\n",
    "\n",
    "from sklearn.neighbors import KNeighborsClassifier\n",
    "knn = KNeighborsClassifier(10)\n",
    "\n",
    "acuracia_treino, acuracia_validacao = 0, 0\n",
    "for train, test in kf.split(x):\n",
    "    x_train, x_test = x[train], x[test]\n",
    "    y_train, y_test = y[train], y[test]\n",
    "\n",
    "    knn.fit(x_train, y_train)\n",
    "\n",
    "    acuracia_treino += knn.score(x_train, y_train)\n",
    "    acuracia_validacao += knn.score(x_test, y_test)\n",
    "\n",
    "acuracia_treino /= kf.get_n_splits(x)\n",
    "acuracia_validacao /= kf.get_n_splits(x)\n",
    "\n",
    "print('Acurácia na base de treino:', acuracia_treino)\n",
    "print('Acurácia na base de validação:', acuracia_validacao)"
   ]
  },
  {
   "cell_type": "code",
   "execution_count": 29,
   "metadata": {},
   "outputs": [
    {
     "name": "stdout",
     "output_type": "stream",
     "text": [
      "RMSE na base de treino: 19.220259837710355\n",
      "RMSE na base de validação: 15.465218791702428\n"
     ]
    }
   ],
   "source": [
    "# Questão 3\n",
    "df = pd.read_csv(\"reg01.csv\")\n",
    "\n",
    "x = df.drop('target', axis = 1).to_numpy()\n",
    "y = df['target'].to_numpy()\n",
    "\n",
    "from sklearn.model_selection import LeaveOneOut\n",
    "loo = LeaveOneOut()\n",
    "\n",
    "from sklearn.linear_model import Lasso\n",
    "l = Lasso(1)\n",
    "\n",
    "rmse_treino, rmse_validacao = 0, 0\n",
    "from sklearn.metrics import mean_squared_error\n",
    "for train, test in loo.split(x):\n",
    "    x_train, x_test = x[train], x[test]\n",
    "    y_train, y_test = y[train], y[test]\n",
    "\n",
    "    l.fit(x_train, y_train)\n",
    "\n",
    "    rmse_treino += np.sqrt(mean_squared_error(y_train, l.predict(x_train)))\n",
    "    rmse_validacao += np.sqrt(mean_squared_error(y_test, l.predict(x_test)))\n",
    "\n",
    "rmse_treino /= loo.get_n_splits(x)\n",
    "rmse_validacao /= loo.get_n_splits(x)\n",
    "\n",
    "print('RMSE na base de treino:', rmse_treino)\n",
    "print('RMSE na base de validação:', rmse_validacao)"
   ]
  },
  {
   "cell_type": "code",
   "execution_count": 30,
   "metadata": {},
   "outputs": [
    {
     "name": "stdout",
     "output_type": "stream",
     "text": [
      "MAE na base de treino: 0.0\n",
      "MAE na base de validação: 43.195291239357694\n"
     ]
    }
   ],
   "source": [
    "# Questão 4\n",
    "df = pd.read_csv(\"reg02.csv\")\n",
    "\n",
    "x = df.drop('target', axis = 1).to_numpy()\n",
    "y = df['target'].to_numpy()\n",
    "\n",
    "from sklearn.model_selection import KFold\n",
    "kf = KFold(5)\n",
    "\n",
    "from sklearn.tree import DecisionTreeRegressor\n",
    "tree = DecisionTreeRegressor(criterion = 'absolute_error')\n",
    "\n",
    "mae_treino, mae_validacao = 0, 0\n",
    "from sklearn.metrics import mean_absolute_error\n",
    "for train, test in kf.split(x):\n",
    "    x_train, x_test = x[train], x[test]\n",
    "    y_train, y_test = y[train], y[test]\n",
    "\n",
    "    tree.fit(x_train, y_train)\n",
    "\n",
    "    mae_treino += mean_absolute_error(y_train, tree.predict(x_train))\n",
    "    mae_validacao += mean_absolute_error(y_test, tree.predict(x_test))\n",
    "\n",
    "mae_treino /= kf.get_n_splits(x)\n",
    "mae_validacao /= kf.get_n_splits(x)\n",
    "\n",
    "print('MAE na base de treino:', mae_treino)\n",
    "print('MAE na base de validação:', mae_validacao)"
   ]
  }
 ],
 "metadata": {
  "kernelspec": {
   "display_name": "Python 3.10.6 64-bit",
   "language": "python",
   "name": "python3"
  },
  "language_info": {
   "codemirror_mode": {
    "name": "ipython",
    "version": 3
   },
   "file_extension": ".py",
   "mimetype": "text/x-python",
   "name": "python",
   "nbconvert_exporter": "python",
   "pygments_lexer": "ipython3",
   "version": "3.10.6"
  },
  "orig_nbformat": 4,
  "vscode": {
   "interpreter": {
    "hash": "9f8688d2bc69c748babb560adc9158621fb8aef49546882c3e4c6326402dd0cc"
   }
  }
 },
 "nbformat": 4,
 "nbformat_minor": 2
}
